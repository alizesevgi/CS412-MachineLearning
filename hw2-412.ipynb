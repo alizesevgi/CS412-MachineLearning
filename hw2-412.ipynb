{
  "nbformat": 4,
  "nbformat_minor": 0,
  "metadata": {
    "kernelspec": {
      "display_name": "Python 3",
      "language": "python",
      "name": "python3"
    },
    "language_info": {
      "codemirror_mode": {
        "name": "ipython",
        "version": 3
      },
      "file_extension": ".py",
      "mimetype": "text/x-python",
      "name": "python",
      "nbconvert_exporter": "python",
      "pygments_lexer": "ipython3",
      "version": "3.6.7"
    },
    "colab": {
      "name": "Homework 2: Drug Side Effects.ipynb adlı not defterinin kopyası",
      "provenance": [],
      "collapsed_sections": []
    }
  },
  "cells": [
    {
      "cell_type": "markdown",
      "metadata": {
        "id": "ldMgDPWh6KZJ"
      },
      "source": [
        "#Homework 2: Drug Side Effects\n",
        "\n",
        "*In the second homework, you are going to work with SIDER side effects dataset.*\n",
        "\n",
        "**Submission Instructions**\n",
        "\n",
        "---\n",
        "It is important that you follow the submission instructions. \n",
        "1. Copy this assignment notebook to your Drive. <font color = 'red'> `File` --> `Save a copy in Drive`</font>. Rename it as <font color = 'green'>`Lastname_Firstname_hw1`</font>.\n",
        "\n",
        "2. Write your solutions in the cells  marked <font color = 'green'>`# your code`</font>.\n",
        "\n",
        "3. Do not delete your outputs. They are essential for the grading. Make sure that cells containing your solutions are executed, and the results are displayed on the notebook.\n",
        "\n",
        "4. When you're done please submit your solutions as an <font color=\"red\">`.ipynb`</font> file. To do so:\n",
        "\n",
        "\n",
        "1.  Click on <font color=\"red\">`File`</font>  at the top left on the Colab screen, then click on <font color = 'red'>`Download .ipynb`</font>.\n",
        "2.   Then submit the downloaded <font color=\"red\">`.ipynb`</font> version of your work on SUCourse.\n",
        "\n",
        "\n",
        "For any question, you may send an email to the TAs and LAs.\n",
        "\n",
        "---"
      ]
    },
    {
      "cell_type": "markdown",
      "metadata": {
        "id": "pSp2PnhBSssR"
      },
      "source": [
        "In this homework, you will work on a dataset from [SIDER Side Effect Resource](http://sideeffects.embl.de/). SIDER contains information on marketed drugs and their recorded adverse drug reactions (ADR).\n",
        "\n",
        "For this homework, you will use the provided file `meddra_all_se.csv`. This is a modified and simplified version of the original dataset, which contains possible side effects of different drugs.\n",
        "<!-- This is not the original data file, we modified and eliminated some parts to make your work easier. -->\n",
        "\n",
        "As listed in their prospectives, drugs can cause some side effects besides their healing properties. This dataset simply contains entries of drugs and their potential side effects.\n",
        "\n",
        "In the dataset, each row has 4 attribute values separated with `,`. These attributes are described in the list below with their respective order in the dataset.\n",
        "\n",
        "\n",
        "  1.   **STITCH compound id:** Refers to ID of a particular drug \n",
        "\n",
        "  2.   **UMLS concept id:** Unified Medical Language System ID\n",
        "\n",
        "  3.   **UMLS concept id for MedDRA term** \n",
        "\n",
        "  4.   **Side effect name:** Contains the possible side effect entry.\n",
        "\n",
        "**You will consider the STITCH compound id as the id of a particular drug. Therefore, rows with the same STITCH compound id refer to possible side effects of the same particular drug.**\n",
        "\n",
        "A snapshot from the dataset containing three sample rows is also provided below.\n",
        "```\n",
        "...\n",
        "CID100000085,CID000010917,C0015230,Rash\n",
        "CID100000085,CID000010917,C0015397,Eye disorder\n",
        "CID100000085,CID000010917,C0015967,Body temperature increased\n",
        "\n",
        "...\n",
        "```\n",
        "\n",
        "*Do not forget to add the shared `meddra_all_se.csv` file to your drive and mount to your drive. Otherwise, you won't be able to read the file.*\n",
        "\n",
        "**!!!You are not allowed to use `pandas` in this homework**"
      ]
    },
    {
      "cell_type": "code",
      "metadata": {
        "id": "NQS682uLXZWr"
      },
      "source": [
        "import numpy as np\n",
        "import matplotlib.pyplot as plt\n",
        "from os.path import join\n",
        "\n",
        "%matplotlib inline"
      ],
      "execution_count": null,
      "outputs": []
    },
    {
      "cell_type": "code",
      "metadata": {
        "id": "8VzWuGps4xl_",
        "outputId": "b8e49ab2-4758-4e2d-dc1b-8cb6595e5bf0",
        "colab": {
          "base_uri": "https://localhost:8080/"
        }
      },
      "source": [
        "from google.colab import drive\n",
        "drive.mount('./drive', force_remount=True)\n",
        "\n",
        "path_prefix = \"./drive/My Drive\""
      ],
      "execution_count": null,
      "outputs": [
        {
          "output_type": "stream",
          "text": [
            "Mounted at ./drive\n"
          ],
          "name": "stdout"
        }
      ]
    },
    {
      "cell_type": "markdown",
      "metadata": {
        "id": "K6GWzFj_rQ5J"
      },
      "source": [
        "## Q1: Descriptive Statistics of the Dataset\n",
        "\n",
        "In this question, your task is to gather some descriptive information about the dataset. To do this, first read the provided dataset and store it in a 2 dimensional numpy array. Then, print the listed descriptive statistics about the dataset.\n",
        "\n",
        "*   Shape of the dataset, i.e. number of rows and columns\n",
        "*   Number of unique drugs \n",
        "*   Number of unique side effects"
      ]
    },
    {
      "cell_type": "code",
      "metadata": {
        "id": "S36mQBwjvz2i",
        "outputId": "4bbd0e75-a50c-443a-fb8f-76cae78d3235",
        "colab": {
          "base_uri": "https://localhost:8080/"
        }
      },
      "source": [
        "# your code\n",
        "templist= []\n",
        "datarr=[]\n",
        "count = 0\n",
        "with open(\"./drive/My Drive/meddra_all_se.csv\", \"rt\") as ogfile:\n",
        "  for line in ogfile:\n",
        "    for word in line.split(\",\"):\n",
        "      \n",
        "      templist.append(word)\n",
        "      count=count+1\n",
        "      if (count==4):\n",
        "        datarr.append(list(templist))\n",
        "        count= 0\n",
        "        templist.clear()\n",
        "nparray= np.asarray(datarr)\n",
        "print(nparray.shape) ##q1 shape\n",
        "\n",
        "\n",
        "#creating an \"only cid\" list\n",
        "cidlist = []\n",
        "for cid in np.nditer(nparray[:, ::4]):\n",
        "  cidlist.append(cid)\n",
        "\n",
        "cidnp = np.asarray(cidlist)\n",
        "\n",
        "unq = np.unique(cidnp)\n",
        "\n",
        "print(len(unq)) #num of unique drugs\n",
        "\n",
        "#creating an \"only side effects\" list\n",
        "selist = []\n",
        "searray = nparray.flatten(order='C')\n",
        "selist =searray[3::4]\n",
        "senp= np.asarray(selist)\n",
        "\n",
        "unq2= np.unique(senp)\n",
        "print(len(unq2)) #num of unique side effects\n",
        "\n",
        "\n",
        "\n",
        "\n",
        "\n"
      ],
      "execution_count": null,
      "outputs": [
        {
          "output_type": "stream",
          "text": [
            "(91281, 4)\n",
            "953\n",
            "5064\n"
          ],
          "name": "stdout"
        }
      ]
    },
    {
      "cell_type": "markdown",
      "metadata": {
        "id": "QaM_N7VbvjNd"
      },
      "source": [
        "## Q2: Side Effects of Drugs"
      ]
    },
    {
      "cell_type": "markdown",
      "metadata": {
        "id": "rDTZdak-vBEF"
      },
      "source": [
        "### Part A \n",
        "\n",
        "As explained above, side effect entries in the dataset correspond to possible side effects of different drugs.\n",
        "\n",
        "In this part, your goal is to find the drug which has the most side effects in the dataset. <!-- Print the `drug id` *(STITCH compound id)* of that drug and `number of its indications`. --> Print the `drug id` *(STITCH compound id)* of that drug and print the number of possible side effects (indications) it has.\n",
        "\n",
        "Print your results in the following format.\n",
        "\n",
        "``` py\n",
        "drug id: CID100002771\n",
        "number of side effects: 766\n",
        "```\n",
        "\n",
        "\n"
      ]
    },
    {
      "cell_type": "code",
      "metadata": {
        "id": "HgNzsbgMvT_l",
        "outputId": "2e8bc918-6de4-479b-fbd9-55e60e804bc2",
        "colab": {
          "base_uri": "https://localhost:8080/"
        }
      },
      "source": [
        "# your code\n",
        "\n",
        "\n",
        "unique,pos = np.unique(cidnp,return_inverse=True) \n",
        "counts = np.bincount(pos)                     \n",
        "maxpos = counts.argmax()                      \n",
        "\n",
        "print(\"drug id: \",unique[maxpos])\n",
        "print(\"number of side effects: \",counts[maxpos])\n",
        "\n",
        "\n",
        "\n",
        "\n"
      ],
      "execution_count": null,
      "outputs": [
        {
          "output_type": "stream",
          "text": [
            "drug id:  CID100002771\n",
            "number of side effects:  766\n"
          ],
          "name": "stdout"
        }
      ]
    },
    {
      "cell_type": "markdown",
      "metadata": {
        "id": "QB1vuzhZp1xt"
      },
      "source": [
        "### Part B \n",
        "\n",
        "Now, find the number of side effects for all drugs and display its distribution as an histogram.\n",
        "\n",
        "An exemplary figure can be observed below.\n",
        "\n",
        "![](https://i.ibb.co/7zPSnkR/hist.jpg)\n",
        "\n"
      ]
    },
    {
      "cell_type": "code",
      "metadata": {
        "id": "gByAdVaJvUz8",
        "outputId": "9cc631d4-5dc1-4f68-c77d-40449a084ff0",
        "colab": {
          "base_uri": "https://localhost:8080/",
          "height": 475
        }
      },
      "source": [
        "# your code\n",
        "\n",
        "uniqueValues, occurCount = np.unique(senp, return_counts=True)\n",
        "#print(\"Unique Values : \" , uniqueValues)\n",
        "#print(\"Occurrence Count : \", occurCount)\n",
        "\n",
        "fig, ax = plt.subplots(figsize =(10, 7)) \n",
        "ax.hist(occurCount, bins = [0, 100, 200, 300, 400, 500, 600, 700, 800]) \n",
        "\n",
        "print(occurCount)\n",
        "plt.xlabel(\"Number of Side Effects\")\n",
        "plt.ylabel(\"Frequency\")\n",
        "plt.title(\"Number of Side Effects per Drug\")\n",
        "# Show plot \n",
        "plt.show() \n",
        "\n",
        "\n",
        "\n",
        "\n",
        "\n",
        "\n",
        "\n",
        "\n",
        "\n"
      ],
      "execution_count": null,
      "outputs": [
        {
          "output_type": "stream",
          "text": [
            "[13  2  1 ...  3  1  1]\n"
          ],
          "name": "stdout"
        },
        {
          "output_type": "display_data",
          "data": {
            "image/png": "[encoded data removed]",
            "text/plain": [
              "<Figure size 720x504 with 1 Axes>"
            ]
          },
          "metadata": {
            "tags": [],
            "needs_background": "light"
          }
        }
      ]
    },
    {
      "cell_type": "markdown",
      "metadata": {
        "id": "0M6JfX5cp7Zv"
      },
      "source": [
        "## Q3: The Most Frequent Side Effects\n",
        "\n",
        "Here, you are going to analyze side effects that can be more commonly caused by drugs. \n",
        "\n",
        "Since we have a dataset of drugs and their potential side effects, one of the first question that comes to mind is to see the most common side effects of these drugs.\n",
        "\n",
        "*   Plot a `bar chart` to show most frequent 15 side effects of the dataset.\n",
        "\n",
        "![](https://i.ibb.co/Y8nQr3p/barh.jpg)\n",
        "\n",
        "*You can choose to make the bar chart with a different style, but the bars should look like the chart above.* \n"
      ]
    },
    {
      "cell_type": "code",
      "metadata": {
        "id": "prRpUH5bgSNi",
        "outputId": "d67727d6-2ae9-4544-a6c6-884e70013833",
        "colab": {
          "base_uri": "https://localhost:8080/",
          "height": 265
        }
      },
      "source": [
        "# your code\n",
        "\n",
        "from collections import Counter\n",
        "from itertools import repeat, chain\n",
        "list_with_multiples=list(chain.from_iterable(repeat(i, c) for i,c in Counter(senp).most_common()))\n",
        "unique_names = []\n",
        "frequency = []\n",
        "for a in list_with_multiples:\n",
        "    if len(unique_names)<15:\n",
        "      if a not in unique_names:\n",
        "          unique_names.append(a)\n",
        "    else:\n",
        "      break\n",
        "\n",
        "for name in unique_names:\n",
        "  no = list_with_multiples.count(name)\n",
        "  frequency.append(no)\n",
        "\n",
        "y_pos = np.arange(len(unique_names))\n",
        " \n",
        "# Create horizontal bars\n",
        "plt.barh(y_pos, frequency)\n",
        " \n",
        "# Create names on the y-axis\n",
        "plt.yticks(y_pos, unique_names)\n",
        " \n",
        "# Show graphic\n",
        "plt.show()\n",
        " "
      ],
      "execution_count": null,
      "outputs": [
        {
          "output_type": "display_data",
          "data": {
            "image/png": "[encoded data removed]",
            "text/plain": [
              "<Figure size 432x288 with 1 Axes>"
            ]
          },
          "metadata": {
            "tags": [],
            "needs_background": "light"
          }
        }
      ]
    },
    {
      "cell_type": "markdown",
      "metadata": {
        "id": "cpic0BLlp95Z"
      },
      "source": [
        "## Q4: Conditional Probability\n",
        "\n",
        "In Probability Theory, conditional probability is a measure of the probability of an event occurring, given that another event has already occurred. The formula for the conditional probability is shared below.\n",
        "\n",
        "```\n",
        "P(B|A) = P(A and B) / P(A)\n",
        "```\n",
        "\n",
        "As also suggested by our dataset, drugs can have multiple side effects. With the conditional probability, we can study the chances of a particular side effect with a given presence of another one.\n",
        "\n",
        "So, the following question can be answered with our dataset. \n",
        "\n",
        "**If a drug has `Headache` side effect, what is the probability it also has `Vomiting` side effect?**\n",
        "\n",
        "Please calculate this conditional probability from the dataset and report the resulting probability score."
      ]
    },
    {
      "cell_type": "code",
      "metadata": {
        "id": "a26lkrlt27qr",
        "outputId": "35ae9ca8-52af-4e6d-ee16-832f0672c76f",
        "colab": {
          "base_uri": "https://localhost:8080/"
        }
      },
      "source": [
        "from collections import Counter\n",
        "\n",
        "MyList = list(cidnp)\n",
        "a = dict(Counter(MyList))\n",
        "number_of_oc = list(a.values())         \n",
        "\n",
        "counter_head = 0\n",
        "counter_vh = 0\n",
        "index = 0\n",
        "\n",
        "for x in number_of_oc:\n",
        "  boo1= False\n",
        "  boo2 = False\n",
        "  for y in range(x):\n",
        "    side_ef = senp[index]\n",
        "    index = index + 1\n",
        "    if (side_ef == \"Headache\\n\"):\n",
        "      counter_head = counter_head +1\n",
        "      boo1 = True\n",
        "    if (side_ef == \"Vomiting\\n\"):\n",
        "      boo2 = True\n",
        "  \n",
        "    \n",
        "    if boo2 and boo1 and side_ef==\"Vomiting\\n\":\n",
        "        counter_vh = counter_vh+1\n",
        "\n",
        "print( counter_vh / counter_head)\n",
        "\n",
        "\n",
        "\n",
        "\n",
        "\n",
        "\n",
        "\n",
        "\n",
        "\n",
        "\n",
        "  \n",
        "\n"
      ],
      "execution_count": null,
      "outputs": [
        {
          "output_type": "stream",
          "text": [
            "0.8331071913161465\n"
          ],
          "name": "stdout"
        }
      ]
    }
  ]
}